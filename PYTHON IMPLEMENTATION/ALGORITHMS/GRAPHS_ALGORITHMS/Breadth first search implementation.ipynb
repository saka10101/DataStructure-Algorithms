{
 "nbformat": 4,
 "nbformat_minor": 2,
 "metadata": {
  "language_info": {
   "name": "python",
   "codemirror_mode": {
    "name": "ipython",
    "version": 3
   },
   "version": "3.5.2"
  },
  "orig_nbformat": 2,
  "file_extension": ".py",
  "mimetype": "text/x-python",
  "name": "python",
  "npconvert_exporter": "python",
  "pygments_lexer": "ipython3",
  "version": 3
 },
 "cells": [
  {
   "cell_type": "markdown",
   "execution_count": null,
   "metadata": {},
   "outputs": [],
   "source": [
    "## BREADTH FIRST SEARCH INTRODUCTION\n",
    "\n",
    "Breadth-first search (BFS) is an algorithm for traversing or searching tree or graph data structures. It starts at the tree root (or some arbitrary node of a graph, sometimes referred to as a 'search key'),and explores all of the neighbor nodes at the present depth prior to moving on to the nodes at the next depth level. -wikipedia\n",
    "\n",
    "\n",
    "![fig](https://upload.wikimedia.org/wikipedia/commons/4/46/Animated_BFS.gif)\n",
    "\n",
    "\n",
    "\n",
    "\n",
    "\n",
    "\n"
   ]
  },
  {
   "cell_type": "markdown",
   "execution_count": null,
   "metadata": {},
   "outputs": [],
   "source": [
    "## BFS IMPLEMENTATION\n",
    "\n",
    "\n",
    "BFS can be implemented using queue data structures as shown in the code below: \n",
    "\n",
    "Let us assume the graph as shown below with vertex and its connected neighbours"
   ]
  },
  {
   "cell_type": "code",
   "execution_count": 17,
   "metadata": {},
   "outputs": [
    {
     "name": "stdout",
     "output_type": "stream",
     "text": "{'E': {'B', 'F'}, 'B': {'D', 'A', 'E'}, 'F': {'E', 'C'}, 'D': {'B'}, 'A': {'C', 'B'}, 'C': {'A', 'F'}}\n{'E': {'H', 'B'}, 'B': {'D', 'A', 'E'}, 'F': {'C'}, 'G': {'C'}, 'D': {'B'}, 'A': {'C', 'B'}, 'C': {'G', 'F'}, 'H': {'E'}}\n"
    }
   ],
   "source": [
    "graph1= {'A': set(['B', 'C']),\n",
    "         'B': set(['A', 'D', 'E']),\n",
    "         'C': set(['A', 'F']),\n",
    "         'D': set(['B']),\n",
    "         'E': set(['B', 'F']),\n",
    "         'F': set(['C', 'E'])}\n",
    "graph2= {'A': set(['B', 'C']),\n",
    "         'B': set(['A', 'D', 'E']),\n",
    "         'C': set(['F', 'G']),\n",
    "         'D': set(['B']),\n",
    "         'E': set(['B', 'H']),\n",
    "         'F': set(['C']),\n",
    "         'G': set(['C']),\n",
    "         'H': set (['E'])\n",
    "         }\n",
    "\n",
    "print(graph1)\n",
    "print(graph2)"
   ]
  },
  {
   "cell_type": "code",
   "execution_count": 18,
   "metadata": {},
   "outputs": [
    {
     "data": {
      "text/plain": "{'A', 'B', 'C', 'D', 'E', 'F', 'G', 'H'}"
     },
     "execution_count": 18,
     "metadata": {},
     "output_type": "execute_result"
    }
   ],
   "source": [
    "def bfs(graph, start):\n",
    "    visited, queue = set(), [start]\n",
    "    while queue:\n",
    "        vertex = queue.pop(0)\n",
    "        if vertex not in visited:\n",
    "            visited.add(vertex)\n",
    "            queue.extend(graph[vertex] - visited)\n",
    "    return visited\n",
    "\n",
    "bfs(graph1,'A')\n",
    "bfs(graph2,'A')"
   ]
  },
  {
   "cell_type": "markdown",
   "execution_count": null,
   "metadata": {},
   "outputs": [],
   "source": [
    "#### BFS implemented to find paths(shortest) from given start and end vertices in graph as shown in the code below\n"
   ]
  },
  {
   "cell_type": "code",
   "execution_count": 26,
   "metadata": {},
   "outputs": [
    {
     "name": "stdout",
     "output_type": "stream",
     "text": "Shortest path:\n['A', 'C', 'F']\n"
    }
   ],
   "source": [
    "def bfs_paths(graph,start,goal):\n",
    "    queue=[(start,[start])]\n",
    "    while queue :\n",
    "        (vertex,path)=queue.pop(0)\n",
    "        for next in graph[vertex] -set(path):\n",
    "            if next == goal:\n",
    "                yield path + [next]\n",
    "            else:\n",
    "                queue.append((next,path +[next]))\n",
    "\n",
    "paths =list(bfs_paths(graph1,'A','F'))\n",
    "\n",
    "print(\"Shortest path:\")\n",
    "print(paths[0])\n",
    "\n",
    "\n",
    "\n"
   ]
  },
  {
   "cell_type": "code",
   "execution_count": null,
   "metadata": {},
   "outputs": [],
   "source": []
  }
 ]
}