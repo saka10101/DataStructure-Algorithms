{
 "nbformat": 4,
 "nbformat_minor": 2,
 "metadata": {
  "language_info": {
   "name": "python",
   "codemirror_mode": {
    "name": "ipython",
    "version": 3
   },
   "version": "3.5.2"
  },
  "orig_nbformat": 2,
  "file_extension": ".py",
  "mimetype": "text/x-python",
  "name": "python",
  "npconvert_exporter": "python",
  "pygments_lexer": "ipython3",
  "version": 3
 },
 "cells": [
  {
   "cell_type": "markdown",
   "execution_count": null,
   "metadata": {},
   "outputs": [],
   "source": [
    "## Binary Search overview:\n",
    "\n",
    "This is a search algorithm that finds the position of a target value within a **sorted array**.\n",
    "\n",
    "It compares the target value to the middle element of the array. If they are not equal, the half in which the target cannot lie is eliminated and the search continues on the remaining half, again taking the middle element to compare to the target value, and repeating this until the target value is found. If the search ends with the remaining half being empty, the target is not in the array.\n",
    "\n",
    "Binary search runs in logarithmic time in the worst case, making O(log n) comparisons, where n is the number of elements in the array\n",
    "\n",
    "An example of this algorithm is visualized below:\n",
    "\n",
    "\n",
    "|![Binary Search visualization: ](https://upload.wikimedia.org/wikipedia/commons/thumb/8/83/Binary_Search_Depiction.svg/220px-Binary_Search_Depiction.svg.png)|\n",
    "|:--:| \n",
    "| * - Here 7 is target value or search value.\n",
    "    - The target element(ie 7) is compared with the middle element of sorted list (ie 14)\n",
    "    - Then since 7 is less than 14 , right part can be neglected \n",
    "    - Again to left part , middle element is compared with target as before to finally reach the target value * |\n",
    "\n",
    "\n",
    "\n",
    "\n"
   ]
  },
  {
   "cell_type": "markdown",
   "execution_count": null,
   "metadata": {},
   "outputs": [],
   "source": [
    "## Implementation of Binary Search:(Iterative Implementation)\n"
   ]
  },
  {
   "cell_type": "code",
   "execution_count": 63,
   "metadata": {},
   "outputs": [],
   "source": [
    "def binary_search(arr,target):\n",
    "    array=sorted(arr)\n",
    "    min=0\n",
    "    max=len(array)-1\n",
    "    found=False\n",
    "\n",
    "    while (min<=max) and not found:\n",
    "\n",
    "        mid=(min+max)//2\n",
    "\n",
    "        if(array[mid]==target):\n",
    "            found=True\n",
    "        else:\n",
    "            if array[mid]>target:\n",
    "                max=mid-1           #notice max=mid =>error\n",
    "            else:\n",
    "                min=mid+1\n",
    "\n",
    "    if found:\n",
    "        for x in range(len(array)-1):\n",
    "            if arr[x]==array[mid]:\n",
    "                return \"Found at index :\"+ str(x) +\" in the given array [Note:array index starts from 0 ]\" \n",
    "       \n",
    "    else:\n",
    "        return \"Not found\"  \n",
    "\n",
    "\n"
   ]
  },
  {
   "cell_type": "code",
   "execution_count": 64,
   "metadata": {},
   "outputs": [
    {
     "data": {
      "text/plain": "'Not found'"
     },
     "execution_count": 64,
     "metadata": {},
     "output_type": "execute_result"
    }
   ],
   "source": [
    "lists=[27,24,23,93,90,91]\n",
    "binary_search(lists,20)\n"
   ]
  },
  {
   "cell_type": "code",
   "execution_count": 72,
   "metadata": {},
   "outputs": [],
   "source": [
    "def binary_search_recur(arr ,target):\n",
    "\n",
    "\n",
    "    # Base Case!\n",
    "    if len(arr) == 0:\n",
    "        return False\n",
    "    \n",
    "    # Recursive Case\n",
    "    else:\n",
    "        \n",
    "        mid = len(arr)//2\n",
    "        \n",
    "        # If match found\n",
    "        if arr[mid]==target:\n",
    "            return True\n",
    "        \n",
    "        else:\n",
    "            \n",
    "            # Call again on second half\n",
    "            if target<arr[mid]:\n",
    "                return binary_search_recur(arr[:mid],target)\n",
    "            \n",
    "            # Or call on first half\n",
    "            else:\n",
    "                return binary_search_recur(arr[mid+1:],target)\n",
    "\n",
    "   \n",
    "    \n",
    "    \n"
   ]
  },
  {
   "cell_type": "code",
   "execution_count": 74,
   "metadata": {},
   "outputs": [
    {
     "data": {
      "text/plain": "True"
     },
     "execution_count": 74,
     "metadata": {},
     "output_type": "execute_result"
    }
   ],
   "source": [
    "lists=[27,24,23,93,90,91]\n",
    "sortedlists=sorted(lists)\n",
    "binary_search_recur(sortedlists,23)"
   ]
  },
  {
   "cell_type": "code",
   "execution_count": null,
   "metadata": {},
   "outputs": [],
   "source": []
  }
 ]
}