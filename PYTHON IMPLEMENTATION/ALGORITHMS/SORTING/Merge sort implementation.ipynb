{
 "nbformat": 4,
 "nbformat_minor": 2,
 "metadata": {
  "language_info": {
   "name": "python",
   "codemirror_mode": {
    "name": "ipython",
    "version": 3
   },
   "version": "3.5.2"
  },
  "orig_nbformat": 2,
  "file_extension": ".py",
  "mimetype": "text/x-python",
  "name": "python",
  "npconvert_exporter": "python",
  "pygments_lexer": "ipython3",
  "version": 3
 },
 "cells": [
  {
   "cell_type": "markdown",
   "execution_count": null,
   "metadata": {},
   "outputs": [],
   "source": [
    "## Merge Sort introduction\n",
    "\n",
    "A merge sort works as follows:\n",
    "- Divide the unsorted list into n sublists, each containing one element (a list of one element is considered sorted).\n",
    "- Repeatedly merge sublists to produce new sorted sublists until there is only one sublist remaining. This will be the sorted list.\n",
    "\n",
    "**In sorting n objects, merge sort has an average and worst-case performance of O(n log n).**\n",
    "\n",
    "This can be seen from example below:\n",
    "\n",
    "\n",
    "![Merge Sort visualization](https://upload.wikimedia.org/wikipedia/commons/thumb/c/cc/Merge-sort-example-300px.gif/220px-Merge-sort-example-300px.gif)\n",
    "\n",
    "\n",
    "![Example](https://upload.wikimedia.org/wikipedia/commons/thumb/e/e6/Merge_sort_algorithm_diagram.svg/300px-Merge_sort_algorithm_diagram.svg.png)\n",
    "\n",
    "\n",
    "\n"
   ]
  },
  {
   "cell_type": "markdown",
   "execution_count": null,
   "metadata": {},
   "outputs": [],
   "source": [
    "## Merge Sort implementation\n",
    "The code below shows the recursive implementation of Merge sort algorithm:\n"
   ]
  },
  {
   "cell_type": "code",
   "execution_count": 4,
   "metadata": {},
   "outputs": [],
   "source": [
    "def merge_sort(array):\n",
    "    temparray=array.copy()\n",
    "\n",
    "    if len(temparray)>1:  #base case for recursion \n",
    "        mid=int(len(temparray)/2)\n",
    "        L=temparray[:mid]\n",
    "        R=temparray[mid:]\n",
    "\n",
    "        L=merge_sort(L) #recursively sorted left subhalf ie keep spliting\n",
    "        R=merge_sort(R)#recursively sorted right subhalf ie keep spliting\n",
    "        i=0 #used to track left half\n",
    "        j=0 #used to track right half\n",
    "        k=0 #used as index of sorted list\n",
    "                      \n",
    "                           # checking after splits\n",
    "        while i<len(L) and j<len(R):\n",
    "            if L[i]<R[j]:\n",
    "                temparray[k]=L[i]\n",
    "                i+=1\n",
    "            else:\n",
    "                temparray[k]=R[j]\n",
    "                j+=1\n",
    "            \n",
    "            k+=1\n",
    "\n",
    "                    #merging smaller sunlist to larger one \n",
    "\n",
    "                    # for left subhalf to merge in list\n",
    "        while i<len(L):\n",
    "            temparray[k]=L[i]\n",
    "            i+=1\n",
    "            k+=1\n",
    "                   #for right part to merge in list\n",
    "        while j<len(R):\n",
    "            temparray[k]=R[j]\n",
    "            j+=1\n",
    "            k+=1\n",
    "\n",
    "    return temparray\n",
    "        \n",
    "    \n"
   ]
  },
  {
   "cell_type": "code",
   "execution_count": 5,
   "metadata": {},
   "outputs": [
    {
     "name": "stdout",
     "output_type": "stream",
     "text": "[23, 24, 27, 90, 91, 93]\n"
    }
   ],
   "source": [
    "array=[27,24,23,93,90,91]\n",
    "sorted_array=merge_sort(array)\n",
    "print(sorted_array)"
   ]
  },
  {
   "cell_type": "code",
   "execution_count": null,
   "metadata": {},
   "outputs": [],
   "source": []
  }
 ]
}