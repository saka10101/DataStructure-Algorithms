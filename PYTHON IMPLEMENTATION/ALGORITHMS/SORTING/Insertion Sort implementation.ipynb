{
 "nbformat": 4,
 "nbformat_minor": 2,
 "metadata": {
  "language_info": {
   "name": "python",
   "codemirror_mode": {
    "name": "ipython",
    "version": 3
   },
   "version": "3.5.2"
  },
  "orig_nbformat": 2,
  "file_extension": ".py",
  "mimetype": "text/x-python",
  "name": "python",
  "npconvert_exporter": "python",
  "pygments_lexer": "ipython3",
  "version": 3
 },
 "cells": [
  {
   "cell_type": "markdown",
   "execution_count": null,
   "metadata": {},
   "outputs": [],
   "source": [
    "## Insertion sort introduction\n",
    "\n",
    "Insertion sort algorithm iterates, consuming one input element each repetition(i.e.one item at a time), and growing a sorted output list. At each iteration, insertion sort removes one element from the input data, finds the location it belongs within the sorted list, and inserts it there. It repeats until no input elements remain.\n",
    "\n",
    "This can be represented graphically below:\n",
    "\n",
    "![Insertion sort visualization](https://upload.wikimedia.org/wikipedia/commons/0/0f/Insertion-sort-example-300px.gif)"
   ]
  },
  {
   "cell_type": "markdown",
   "execution_count": null,
   "metadata": {},
   "outputs": [],
   "source": [
    "## Insertion sort implementation\n"
   ]
  },
  {
   "cell_type": "code",
   "execution_count": 1,
   "metadata": {},
   "outputs": [],
   "source": [
    "def insertion_sort(array):\n",
    "    temparray=array.copy()\n",
    "    for x in range(1,len(temparray)):\n",
    "        currentvalue=temparray[x]\n",
    "        position=x #used to track insertion position\n",
    "        while position>0 and array[position-1]>currentvalue:\n",
    "            temparray[position]=temparray[position-1]\n",
    "            position=position-1\n",
    "        \n",
    "        temparray[position]=currentvalue #now insertion to that position\n",
    "\n",
    "    return temparray\n",
    "    \n"
   ]
  },
  {
   "cell_type": "code",
   "execution_count": null,
   "metadata": {},
   "outputs": [],
   "source": [
    "lst=[24,95,98,63,36,29]\n",
    "sorted_lst=insertion_sort(lst)\n",
    "print(sorted_lst)"
   ]
  }
 ]
}