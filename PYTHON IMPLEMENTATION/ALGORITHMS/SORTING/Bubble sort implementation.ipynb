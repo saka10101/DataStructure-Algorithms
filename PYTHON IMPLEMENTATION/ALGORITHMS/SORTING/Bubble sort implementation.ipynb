{
 "nbformat": 4,
 "nbformat_minor": 2,
 "metadata": {
  "language_info": {
   "name": "python",
   "codemirror_mode": {
    "name": "ipython",
    "version": 3
   },
   "version": "3.5.2"
  },
  "orig_nbformat": 2,
  "file_extension": ".py",
  "mimetype": "text/x-python",
  "name": "python",
  "npconvert_exporter": "python",
  "pygments_lexer": "ipython3",
  "version": 3
 },
 "cells": [
  {
   "cell_type": "markdown",
   "execution_count": null,
   "metadata": {},
   "outputs": [],
   "source": [
    "## Bubble Sort introduction\n",
    "\n",
    "This is a simple sorting algorithm that repeatedly steps through the list, compares adjacent elements and swaps them if they are in the wrong order. The pass through the list is repeated until the list is sorted. \n",
    "\n",
    "The algorithm, which is a comparison sort, is named for the way smaller or larger elements \"bubble\" to the top of the list. \n",
    "\n",
    "Bubble sort has a worst-case and average complexity of О(n2), where n is the number of items being sorted,\n",
    "\n",
    "Simple example visualization is shown below:\n",
    "\n",
    "![Bubble sort easy visualization] (https://upload.wikimedia.org/wikipedia/commons/c/c8/Bubble-sort-example-300px.gif)\n",
    "\n",
    "\n"
   ]
  },
  {
   "cell_type": "code",
   "execution_count": null,
   "metadata": {},
   "outputs": [],
   "source": [
    "## Bubble sort implementation:\n",
    "\n",
    "The code below implements the bubble sorting algorithm:"
   ]
  },
  {
   "cell_type": "code",
   "execution_count": 25,
   "metadata": {},
   "outputs": [],
   "source": [
    "def bubble_sort(array):\n",
    "    arraytemp=array.copy()        # just copying the original array\n",
    "    for x in range(len(arraytemp)): # Traverse through all array elements\n",
    "        for y in range(0,len(arraytemp)-x-1): # Last x elements are already in place\n",
    "                                            # If we come to a point to switch\n",
    "            if arraytemp[y]>arraytemp[y+1]:\n",
    "                temp=arraytemp[y]\n",
    "                arraytemp[y]=arraytemp[y+1]\n",
    "                arraytemp[y+1]=temp\n",
    "    return arraytemp\n",
    "    \n",
    "\n"
   ]
  },
  {
   "cell_type": "code",
   "execution_count": 27,
   "metadata": {},
   "outputs": [
    {
     "name": "stdout",
     "output_type": "stream",
     "text": "[11, 92, 33, 90, 56]\n[11, 33, 56, 90, 92]\n"
    }
   ],
   "source": [
    "arr=[11,92,33,90,56]\n",
    "print(arr)\n",
    "arrsorted=bubble_sort(arr)\n",
    "print(arrsorted)\n",
    "\n",
    "        \n",
    "  \n",
    "       \n",
    "        "
   ]
  },
  {
   "cell_type": "markdown",
   "execution_count": null,
   "metadata": {},
   "outputs": [],
   "source": []
  }
 ]
}