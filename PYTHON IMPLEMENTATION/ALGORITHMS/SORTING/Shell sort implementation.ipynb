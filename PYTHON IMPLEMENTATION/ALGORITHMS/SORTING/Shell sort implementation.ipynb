{
 "nbformat": 4,
 "nbformat_minor": 2,
 "metadata": {
  "language_info": {
   "name": "python",
   "codemirror_mode": {
    "name": "ipython",
    "version": 3
   },
   "version": "3.5.2"
  },
  "orig_nbformat": 2,
  "file_extension": ".py",
  "mimetype": "text/x-python",
  "name": "python",
  "npconvert_exporter": "python",
  "pygments_lexer": "ipython3",
  "version": 3
 },
 "cells": [
  {
   "cell_type": "markdown",
   "execution_count": null,
   "metadata": {},
   "outputs": [],
   "source": [
    "## Shell Sort introduction\n",
    "\n",
    "Shellsort is a generalization of insertion sort that allows the exchange of items that are far apart.\n",
    "\n",
    "The method starts by sorting pairs of elements far apart from each other(on certain gap), then progressively reducing the gap between elements to be compared.\n",
    "\n",
    "**The running time of Shellsort is heavily dependent on the gap sequence it uses.**\n",
    "\n",
    "\n",
    "\n",
    "\n"
   ]
  },
  {
   "cell_type": "code",
   "execution_count": 46,
   "metadata": {},
   "outputs": [],
   "source": [
    "def shell_sort(array):\n",
    "    arr=array.copy()\n",
    "    sublistcount = int(len(arr)/2) # one way of chosing gap\n",
    "    \n",
    "    # While we still have sub lists\n",
    "    while sublistcount > 0:\n",
    "        for start in range(sublistcount):\n",
    "            # Use a gap insertion\n",
    "            gap_insertion_sort(arr,start,sublistcount)\n",
    "\n",
    "      \n",
    "\n",
    "        sublistcount = int(sublistcount / 2)\n",
    "\n",
    "    \n",
    "    return arr\n",
    "\n",
    "def gap_insertion_sort(arr,start,gap):\n",
    "    for i in range(start+gap,len(arr),gap):\n",
    "\n",
    "        #applying insertion sort here\n",
    "\n",
    "        currentvalue = arr[i]\n",
    "        position = i\n",
    "\n",
    "        # Using the Gap\n",
    "        while position>=gap and arr[position-gap]>currentvalue:\n",
    "            arr[position]=arr[position-gap]\n",
    "            position = position-gap\n",
    "        \n",
    "        # Set current value\n",
    "        arr[position]=currentvalue\n",
    "    \n",
    "    \n"
   ]
  },
  {
   "cell_type": "code",
   "execution_count": 47,
   "metadata": {},
   "outputs": [
    {
     "name": "stdout",
     "output_type": "stream",
     "text": "[23, 24, 27, 90, 91, 93]\n"
    }
   ],
   "source": [
    "lists=[27,24,23,93,90,91]\n",
    "sortedlists=shell_sort(lists)\n",
    "print(sortedlists)\n"
   ]
  },
  {
   "cell_type": "code",
   "execution_count": null,
   "metadata": {},
   "outputs": [],
   "source": []
  }
 ]
}