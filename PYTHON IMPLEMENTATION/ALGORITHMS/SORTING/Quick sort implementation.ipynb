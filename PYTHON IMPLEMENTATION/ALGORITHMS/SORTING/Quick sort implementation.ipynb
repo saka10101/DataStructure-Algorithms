{
 "nbformat": 4,
 "nbformat_minor": 2,
 "metadata": {
  "language_info": {
   "name": "python",
   "codemirror_mode": {
    "name": "ipython",
    "version": 3
   },
   "version": "3.5.2"
  },
  "orig_nbformat": 2,
  "file_extension": ".py",
  "mimetype": "text/x-python",
  "name": "python",
  "npconvert_exporter": "python",
  "pygments_lexer": "ipython3",
  "version": 3
 },
 "cells": [
  {
   "cell_type": "markdown",
   "metadata": {},
   "outputs": [],
   "source": [
    "## Quick sort introduction\n",
    "\n",
    "Quicksort is a type of divide and conquer algorithm. Quicksort first divides a large array into two smaller sub-arrays: the low elements and the high elements. Quicksort can then recursively sort the sub-arrays. The steps are:\n",
    "\n",
    "- Pick an element, called a pivot, from the array.\n",
    "- Partitioning: reorder the array so that all elements with values less than the pivot come before the pivot, while all elements with values greater than the pivot come after it (equal values can go either way). After this partitioning, the pivot is in its final position. This is called the partition operation. \n",
    "- Recursively apply the above steps to the sub-array of elements with smaller values and separately to the sub-array of elements with greater values.\n",
    "\n",
    "\n",
    "\n",
    "***        HOW TO PERFORM PARTITION OPERATION?\n",
    "\n",
    "   - This can be found by using two pointers .ie leftmark and right mark \n",
    "   - If we take first element as pivot ,then move the leftmark towards right until it is greater than pivot and similarly move the rightmark towards left until it is less than pivot\n",
    "   - After this stopping point exchange the values of leftmark and rightmark and continue above marker moving steps\n",
    "   - At some point these marker crossover each other and be stopped\n",
    "   - Finally replace the rightmark pointed value (ie value less than pivot) with the pivot value\n",
    "   - Now the pivot value is at the middle (ie.left part of it contains elements less than it and right part contains elements that are greater than it) so same can be done recursively to left part and right part***\n",
    "\n",
    "\n",
    "\n",
    "\n",
    "\n",
    "\n",
    "The base case of the recursion is arrays of size zero or one, which are in order by definition, so they never need to be sorted.\n",
    "\n",
    "Mathematical analysis of quicksort shows that, on average, the algorithm takes O(n log n) comparisons to sort n items. In the worst case, it makes O(n2) comparisons, though this behavior is rare\n",
    "\n",
    "This can be seen from example below:\n",
    "\n",
    "![Quicksort example:Here last element is taken as pivot](https://upload.wikimedia.org/wikipedia/commons/thumb/a/af/Quicksort-diagram.svg/200px-Quicksort-diagram.svg.png)\n"
   ]
  },
  {
   "cell_type": "code",
   "metadata": {},
   "outputs": [],
   "source": [
    "## Implementation of Quick Sort\n",
    "Quick sort algorithm can be implemented recursively as shown below:\n"
   ]
  },
  {
   "cell_type": "code",
   "execution_count": 4,
   "metadata": {},
   "outputs": [],
   "source": [
    "def quick_sort(array):\n",
    "    temparray=array.copy()\n",
    "    sorter(temparray,0,len(temparray)-1)\n",
    "\n",
    "    return temparray\n",
    "\n",
    "\n",
    "def sorter(arr,first,last):\n",
    "    if first<last:\n",
    "        splitpoint=partitioner(arr,first,last)\n",
    "        sorter(arr,first,splitpoint-1)\n",
    "        sorter(arr,splitpoint+1,last)\n",
    "        \n",
    "def partitioner(arr,first,last):\n",
    "    pivot_value=arr[first] # ie taking 1st element as pivot\n",
    "    leftmark=first+1\n",
    "    rightmark=last\n",
    "    done=False\n",
    "    while not done:\n",
    "        while leftmark<=rightmark and arr[leftmark]<=pivot_value:\n",
    "            leftmark+=1\n",
    "        while rightmark>=leftmark and arr[rightmark]>=pivot_value:\n",
    "            rightmark-=1\n",
    "\n",
    "            if rightmark < leftmark:\n",
    "\n",
    "                # ie crossing point\n",
    "                done =True\n",
    "\n",
    "            else:\n",
    "                 temp=arr[leftmark]\n",
    "                 arr[leftmark]=arr[rightmark]\n",
    "                 arr[rightmark]=temp\n",
    "        \n",
    "        temp=arr[first] #ie pivot now exchanged to be placed at middle point\n",
    "        arr[first]=arr[rightmark]\n",
    "        arr[rightmark]=temp\n",
    "\n",
    "        return rightmark\n",
    "\n",
    "\n",
    "                 \n",
    "\n",
    "\n",
    "\n",
    "\n",
    "\n"
   ]
  },
  {
   "cell_type": "code",
   "execution_count": 5,
   "metadata": {},
   "outputs": [
    {
     "name": "stdout",
     "output_type": "stream",
     "text": "[23, 24, 27, 90, 91, 93]\n"
    }
   ],
   "source": [
    "\n",
    "list=[27,24,23,93,90,91]\n",
    "sorted_list=quick_sort(list)\n",
    "print(sorted_list)\n"
   ]
  },
  {
   "cell_type": "code",
   "execution_count": null,
   "metadata": {},
   "outputs": [],
   "source": []
  }
 ]
}