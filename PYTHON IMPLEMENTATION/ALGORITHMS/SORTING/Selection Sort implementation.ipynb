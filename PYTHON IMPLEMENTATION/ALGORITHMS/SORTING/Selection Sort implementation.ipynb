{
 "nbformat": 4,
 "nbformat_minor": 2,
 "metadata": {
  "language_info": {
   "name": "python",
   "codemirror_mode": {
    "name": "ipython",
    "version": 3
   },
   "version": "3.5.2"
  },
  "orig_nbformat": 2,
  "file_extension": ".py",
  "mimetype": "text/x-python",
  "name": "python",
  "npconvert_exporter": "python",
  "pygments_lexer": "ipython3",
  "version": 3
 },
 "cells": [
  {
   "cell_type": "markdown",
   "execution_count": null,
   "metadata": {},
   "outputs": [],
   "source": [
    "## Selection sort introduction\n",
    "\n",
    "The algorithm divides the input list into two parts:\n",
    "\n",
    "-  the sublist of items already sorted, which is built up from left to right at the front (left) of the list\n",
    " - the sublist of items remaining to be sorted that occupy the rest of the list.\n",
    " \n",
    "  Initially, the sorted sublist is empty and the unsorted sublist is the entire input list. The algorithm proceeds by finding the smallest (or largest, depending on sorting order) element in the unsorted sublist, exchanging (swapping) it with the leftmost unsorted element (putting it in sorted order), and moving the sublist boundaries one element to the right.\n",
    "\n",
    "  This can be shown by the visualization below:\n",
    "  \n",
    "\n",
    "  ![Selection Sort visualization:sorted sublist in shown in yellow,red indicates the smallest element found](https://upload.wikimedia.org/wikipedia/commons/9/94/Selection-Sort-Animation.gif)"
   ]
  },
  {
   "cell_type": "markdown",
   "execution_count": null,
   "metadata": {},
   "outputs": [],
   "source": [
    "## Implementation of the selection sort\n"
   ]
  },
  {
   "cell_type": "code",
   "execution_count": 1,
   "metadata": {},
   "outputs": [],
   "source": [
    "def selection_sort(array):\n",
    "    temparray=array.copy()\n",
    "    for x in range(len(temparray)-1):\n",
    "        min= x\n",
    "        for y in range(x+1,len(temparray)):\n",
    "            if(temparray[min]>temparray[y]):\n",
    "                min=y\n",
    "        temp=temparray[x]\n",
    "        temparray[x]=temparray[min]\n",
    "        temparray[min]=temp\n",
    "    return temparray\n",
    "\n"
   ]
  },
  {
   "cell_type": "code",
   "execution_count": 3,
   "metadata": {},
   "outputs": [
    {
     "name": "stdout",
     "output_type": "stream",
     "text": "[20, 29, 56, 63, 99]\n"
    }
   ],
   "source": [
    "arr=[56,29,99,63,20]\n",
    "arrsorted=selection_sort(arr)\n",
    "print(arrsorted)"
   ]
  },
  {
   "cell_type": "code",
   "execution_count": null,
   "metadata": {},
   "outputs": [],
   "source": []
  }
 ]
}