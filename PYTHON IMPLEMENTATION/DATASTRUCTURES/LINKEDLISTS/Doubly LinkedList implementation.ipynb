{
 "nbformat": 4,
 "nbformat_minor": 2,
 "metadata": {
  "language_info": {
   "name": "python",
   "codemirror_mode": {
    "name": "ipython",
    "version": 3
   },
   "version": "3.5.2"
  },
  "orig_nbformat": 2,
  "file_extension": ".py",
  "mimetype": "text/x-python",
  "name": "python",
  "npconvert_exporter": "python",
  "pygments_lexer": "ipython3",
  "version": 3
 },
 "cells": [
  {
   "cell_type": "markdown",
   "execution_count": null,
   "metadata": {},
   "outputs": [],
   "source": [
    "# DOUBLY LINKEDLIST INTRO\n",
    "\n",
    " In a doubly linked list each node contains, besides the next-node link, a second link field pointing to the 'previous' node in the sequence. The two links may be called 'forward('s') and 'backwards', or 'next' and 'prev'('previous').\n",
    " \n"
   ]
  },
  {
   "cell_type": "code",
   "execution_count": 1,
   "metadata": {},
   "outputs": [
    {
     "data": {
      "text/html": "<img src=\"https://upload.wikimedia.org/wikipedia/commons/thumb/5/5e/Doubly-linked-list.svg/610px-Doubly-linked-list.svg.png\"/>",
      "text/plain": "<IPython.core.display.Image object>"
     },
     "execution_count": 1,
     "metadata": {},
     "output_type": "execute_result"
    }
   ],
   "source": [
    "from IPython.display import Image\n",
    "Image(url= \"https://upload.wikimedia.org/wikipedia/commons/thumb/5/5e/Doubly-linked-list.svg/610px-Doubly-linked-list.svg.png\")\n"
   ]
  },
  {
   "cell_type": "markdown",
   "execution_count": null,
   "metadata": {},
   "outputs": [],
   "source": [
    "### Doubly linked list implementation\n",
    "\n",
    " Implementation of Doubly linked list is similar to singly Linked list with additional pointer that can point backward ie prev as implemented in the code below:"
   ]
  },
  {
   "cell_type": "code",
   "execution_count": 13,
   "metadata": {},
   "outputs": [],
   "source": [
    "class DoublyLinkedList(object):\n",
    "    def __init__ (self,val):\n",
    "        self.value=val\n",
    "        self.next=None\n",
    "        self.prev=None\n",
    "    \n",
    "    def insertbeg(self,head):\n",
    "        self.next=head\n",
    "        head.prev=self\n",
    "    def insertend(self,head):\n",
    "        temp=head\n",
    "        while temp.next:\n",
    "            temp=temp.next\n",
    "        temp.next=self\n",
    "        self.prev=temp\n",
    "    def flowforward(self):\n",
    "        temp=self\n",
    "        print(temp.value)\n",
    "        while temp.next:\n",
    "            temp=temp.next\n",
    "            print(temp.value)\n",
    "    def flowback(self):\n",
    "        temp=self\n",
    "        print(temp.value)\n",
    "        while temp.prev:\n",
    "            temp=temp.prev\n",
    "            print(temp.value)\n",
    "\n",
    "    \n",
    "           \n",
    "\n"
   ]
  },
  {
   "cell_type": "code",
   "execution_count": 14,
   "metadata": {},
   "outputs": [],
   "source": [
    "node1=DoublyLinkedList(3)\n",
    "node2=DoublyLinkedList(4)\n",
    "node3=DoublyLinkedList(5)\n",
    "\n",
    "#connecting nodes\n",
    "node1.next=node2\n",
    "node2.prev=node1\n",
    "\n",
    "node2.next=node3\n",
    "node3.prev=node2\n",
    "\n",
    "\n"
   ]
  },
  {
   "cell_type": "code",
   "execution_count": 16,
   "metadata": {},
   "outputs": [
    {
     "name": "stdout",
     "output_type": "stream",
     "text": "3\n4\n5\n5\n4\n3\n"
    }
   ],
   "source": [
    "node1.flowforward()\n",
    "node3.flowback()\n"
   ]
  },
  {
   "cell_type": "code",
   "execution_count": null,
   "metadata": {},
   "outputs": [],
   "source": []
  }
 ]
}