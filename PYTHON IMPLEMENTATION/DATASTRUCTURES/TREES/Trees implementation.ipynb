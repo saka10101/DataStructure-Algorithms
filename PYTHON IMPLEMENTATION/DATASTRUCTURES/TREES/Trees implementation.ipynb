{
 "nbformat": 4,
 "nbformat_minor": 2,
 "metadata": {
  "language_info": {
   "name": "python",
   "codemirror_mode": {
    "name": "ipython",
    "version": 3
   },
   "version": "3.5.2"
  },
  "orig_nbformat": 2,
  "file_extension": ".py",
  "mimetype": "text/x-python",
  "name": "python",
  "npconvert_exporter": "python",
  "pygments_lexer": "ipython3",
  "version": 3
 },
 "cells": [
  {
   "cell_type": "markdown",
   "execution_count": 93,
   "metadata": {},
   "outputs": [
    {
     "ename": "SyntaxError",
     "evalue": "invalid syntax (<ipython-input-93-2f18123f322c>, line 3)",
     "output_type": "error",
     "traceback": [
      "\u001b[1;36m  File \u001b[1;32m\"<ipython-input-93-2f18123f322c>\"\u001b[1;36m, line \u001b[1;32m3\u001b[0m\n\u001b[1;33m    A tree is a widely used abstract data type (ADT) that simulates a hierarchical tree structure, with a root value and subtrees of children with a parent node, represented as a set of linked nodes.\u001b[0m\n\u001b[1;37m         ^\u001b[0m\n\u001b[1;31mSyntaxError\u001b[0m\u001b[1;31m:\u001b[0m invalid syntax\n"
     ]
    }
   ],
   "source": [
    "# TREES INTRODUCTION\n",
    "\n",
    "A tree is a widely used abstract data type (ADT) that simulates a hierarchical tree structure, with a root value and subtrees of children with a parent node, represented as a set of linked nodes.\n",
    "\n",
    "A tree is a nonlinear data structure, compared to arrays, linked lists, stacks and queues which are linear data structures. A tree can be empty with no nodes or a tree is a structure consisting of one node called the root and zero or one or more subtrees.\n",
    "\n",
    "A tree data structure can be defined recursively as a collection of nodes (starting at a root node), where each node is a data structure consisting of a value, together with a list of references to nodes (the \"children\"), with the constraints that no reference is duplicated, and none points to the root. \n",
    "\n",
    "There are different kinds of trees implementations:\n",
    "\n",
    "- A binary tree is a tree data structure in which each node has at most two children, which are referred to as the left child and the right child.\n",
    "\n",
    "![**A labeled binary tree of size 9 and height 3, with a root node whose value is 2. The above tree is unbalanced and not sorted.**](https://upload.wikimedia.org/wikipedia/commons/thumb/f/f7/Binary_tree.svg/192px-Binary_tree.svg.png)\n",
    "\n",
    "\n",
    "\n",
    "\n",
    "\n"
   ]
  },
  {
   "cell_type": "markdown",
   "execution_count": null,
   "metadata": {},
   "outputs": [],
   "source": [
    "### Tree Representation Implementation (Lists)\n",
    " We can represent the Tree using a list of lists.\n",
    " \n",
    " Code below shows this Representation for Binary Tree"
   ]
  },
  {
   "cell_type": "code",
   "execution_count": 4,
   "metadata": {},
   "outputs": [],
   "source": [
    "def BinaryTreeList(root):\n",
    "    return[root,[],[]]\n",
    "def insertleft(root,newbranch):\n",
    "    t=root.pop(1)\n",
    "    if(len(t)>1):\n",
    "        root.insert(1,[newbranch,t,[]])\n",
    "    else:\n",
    "        root.insert(1,[newbranch,[],[]])    \n",
    "    return root\n",
    "\n",
    "def insertright(root,newbranch):\n",
    "    t=root.pop(2)\n",
    "    if(len(t)>1):\n",
    "        root.insert(2,[newbranch,[],t])\n",
    "    else:\n",
    "        root.insert(2,[newbranch,[],[]])\n",
    "    return root\n",
    "def getrootval(root):\n",
    "    return root[0]\n",
    "def setrootval(root,newval):\n",
    "    root[0]=newval\n",
    "def getleftbranch(root):\n",
    "    return root[1]\n",
    "def getrightbranch(root):\n",
    "    return root[2]\n",
    "\n",
    "\n",
    "\n",
    "\n",
    "\n",
    "\n"
   ]
  },
  {
   "cell_type": "code",
   "execution_count": 6,
   "metadata": {},
   "outputs": [
    {
     "name": "stdout",
     "output_type": "stream",
     "text": "[1, [], []]\n"
    }
   ],
   "source": [
    "treeseed=BinaryTreeList(1)\n",
    "print(treeseed)"
   ]
  },
  {
   "cell_type": "code",
   "execution_count": 9,
   "metadata": {},
   "outputs": [
    {
     "name": "stdout",
     "output_type": "stream",
     "text": "[1, [2, [], []], [3, [], []]]\n"
    }
   ],
   "source": [
    "insertleft(treeseed,2)\n",
    "insertright(treeseed,3)\n",
    "print(treeseed)"
   ]
  },
  {
   "cell_type": "markdown",
   "execution_count": null,
   "metadata": {},
   "outputs": [],
   "source": [
    "## Nodes and References Implementation of a Tree\n",
    "lets implement binary tree with nodes and References using recursive definition of trees\n",
    "\n",
    "\n"
   ]
  },
  {
   "cell_type": "code",
   "execution_count": 58,
   "metadata": {},
   "outputs": [],
   "source": [
    "class BinaryTreeNode(object):\n",
    "    def __init__(self,rootobj):\n",
    "        self.key=rootobj\n",
    "        self.leftbranch=None\n",
    "        self.rightbranch=None\n",
    "    def insertleft(self,newnodekey):\n",
    "        if self.leftbranch==None:\n",
    "            self.leftbranch=BinaryTreeNode(newnodekey)\n",
    "        else:\n",
    "            t=BinaryTreeNode(newnodekey)\n",
    "            t.leftbranch=self.leftbranch\n",
    "            self.leftbranch=t\n",
    "    def insertright(self,newnodekey):\n",
    "        if self.rightbranch==None:\n",
    "            self.rightbranch=BinaryTreeNode(newnodekey)\n",
    "        else:\n",
    "            t=BinaryTreeNode(newnodekey)\n",
    "            t.rightbranch=self.rightbranch\n",
    "            self.rightbranch=t\n",
    "    def getrightbranch(self):\n",
    "        return self.rightbranch\n",
    "    def getleftbranch(self):\n",
    "        return self.leftbranch\n",
    "    def getrootkey(self):\n",
    "        return self.key\n",
    "    def setrootkey(self,newkey):\n",
    "        self.key=newkey\n",
    "    \n",
    "\n",
    "            \n",
    "    \n",
    "\n",
    "\n",
    "    \n",
    "\n"
   ]
  },
  {
   "cell_type": "code",
   "execution_count": 59,
   "metadata": {},
   "outputs": [],
   "source": [
    "seed=BinaryTreeNode(100)\n"
   ]
  },
  {
   "cell_type": "code",
   "execution_count": 60,
   "metadata": {},
   "outputs": [],
   "source": [
    "seed.insertleft(150)\n",
    "seed.insertright(99)\n"
   ]
  },
  {
   "cell_type": "code",
   "execution_count": 61,
   "metadata": {},
   "outputs": [],
   "source": [
    "branch1=BinaryTreeNode(55)\n",
    "branch1.insertleft(44)\n",
    "branch1.insertright(60)"
   ]
  },
  {
   "cell_type": "code",
   "execution_count": 62,
   "metadata": {},
   "outputs": [],
   "source": [
    "seed.insertright(branch1)"
   ]
  },
  {
   "cell_type": "markdown",
   "execution_count": null,
   "metadata": {},
   "outputs": [],
   "source": [
    "### Binary heap implementation\n",
    "A binary heap is a heap data structure that takes the form of a binary tree. Binary heaps are a common way of implementing priority queues.\n",
    "A binary heap is defined as a binary tree with two additional constraints:-\n",
    "\n",
    "- Shape property: A binary heap is a complete binary tree; that is, all levels of the tree, except possibly the last one (deepest) are fully filled, and, if the last level of the tree is not complete, the nodes of that level are filled from left to right.\n",
    "- Heap property: The key stored in each node is either greater than or equal to (≥) or less than or equal to (≤) the keys in the node's children, according to some total order.\n",
    "\n",
    "Binary Heap operations\n",
    "\n",
    "The basic operations for the binary heap are as follows:\n",
    "\n",
    "- BinaryHeap() creates a new, empty, binary heap.\n",
    "- insert(k) adds a new item to the heap.\n",
    "- findMin() returns the item with the minimum key value, leaving item in the heap.\n",
    "- delMin() returns the item with the minimum key value, removing the item from the heap.\n",
    "- sEmpty() returns true if the heap is empty, false otherwise.\n",
    "- size() returns the number of items in the heap.\n",
    "- buildHeap(list) builds a new heap from a list of keys.\n",
    "\n",
    "The code below implements the above operations:\n",
    "\n",
    "\n",
    "\n"
   ]
  },
  {
   "cell_type": "code",
   "execution_count": 84,
   "metadata": {},
   "outputs": [],
   "source": [
    "class BinaryHeap:  #min heap\n",
    "    def __init__(self):\n",
    "        self.heaplist=[0]  #ie root starts from index 1\n",
    "        self.len=0         #used to track the last index\n",
    "    def percolate_up(self,i):    # its a helper module used for bubble up form index i to maintain heap property\n",
    "        while i//2 >0:    # i//2 gives integer index for parent of leaf\n",
    "            if self.heaplist[i]<self.heaplist[i//2]:\n",
    "                temp=self.heaplist[i//2]\n",
    "                self.heaplist[i//2]=self.heaplist[i]\n",
    "                self.heaplist[i]=temp\n",
    "\n",
    "            i=i//2 #used to go up up the tree \n",
    "    \n",
    "    def insert(self,k):\n",
    "         #inserting element k at the end \n",
    "         self.heaplist.append(k)\n",
    "         self.len=self.len + 1 #update the last index\n",
    "         self.percolate_up(self.len)\n",
    "    def minchild(self,i):\n",
    "        if i*2+1 >self.len:\n",
    "            return 2*i\n",
    "        else:\n",
    "            if self.heaplist[2*i]<self.heaplist[2*i+1]:\n",
    "                return 2*i\n",
    "            else:\n",
    "                return 2*i+1\n",
    "\n",
    "    def percolate_down(self,i): #bubble down from index i maintaining heap property\n",
    "        while (2*i)<=self.len:\n",
    "            minindex=self.minchild(i)\n",
    "            if self.heaplist[i]>self.heaplist[minindex]:\n",
    "                temp=self.heaplist[i]\n",
    "                self.heaplist[i]=self.heaplist[minindex]\n",
    "                self.heaplist[minindex]=temp\n",
    "            i=minindex\n",
    "\n",
    "    def delmin(self):\n",
    "        minroot=self.heaplist[1]\n",
    "        self.heaplist[1]=self.heaplist[self.len]\n",
    "        self.len=self.len -1 \n",
    "        self.heaplist.pop() # finally remove that last index\n",
    "        self.percolate_down(1) # bubble down from root\n",
    "        return minroot\n",
    "\n",
    "    def buildheap(self,alist):\n",
    "        i=len(alist) // 2\n",
    "        self.len=len(alist)\n",
    "        self.heaplist=[0] + alist [:]\n",
    "        while(i>0):  # for maintaining heap property of lists\n",
    "            self.percolate_down(i)\n",
    "            i=i-1\n",
    "\n",
    "    \n",
    "\n",
    "  \n",
    "\n"
   ]
  },
  {
   "cell_type": "code",
   "execution_count": 85,
   "metadata": {},
   "outputs": [
    {
     "name": "stdout",
     "output_type": "stream",
     "text": "[0, 2, 3, 6, 5, 8, 9]\n"
    }
   ],
   "source": [
    "binaryheap1=BinaryHeap()\n",
    "binaryheap1.buildheap([5,8,9,3,2,6])\n",
    "print(binaryheap1.heaplist)\n"
   ]
  },
  {
   "cell_type": "code",
   "execution_count": 86,
   "metadata": {},
   "outputs": [
    {
     "name": "stdout",
     "output_type": "stream",
     "text": "[0, 2, 3, 4, 5, 8, 9, 6]\n"
    }
   ],
   "source": [
    "binaryheap1.insert(4)\n",
    "print(binaryheap1.heaplist)"
   ]
  },
  {
   "cell_type": "code",
   "execution_count": 91,
   "metadata": {},
   "outputs": [
    {
     "name": "stdout",
     "output_type": "stream",
     "text": "2\n[0, 3, 5, 4, 6, 8, 9]\n"
    }
   ],
   "source": [
    "print(binaryheap1.delmin())\n",
    "print(binaryheap1.heaplist)\n"
   ]
  },
  {
   "cell_type": "markdown",
   "execution_count": null,
   "metadata": {},
   "outputs": [],
   "source": [
    "## Binary Search Tree Implementation\n",
    "\n",
    "A binary search tree is a rooted binary tree also called sorted binary tree, whose internal nodes each store a key (and optionally, an associated value) and each have two distinguished sub-trees, commonly denoted left and right.It relies on the property that keys that are less than parent are found in left sub tree and those with greater key than parent are found in right subtree.\n",
    "\n",
    "\n",
    "Binary search trees keep their keys in sorted order, so that lookup and other operations can use the principle of binary search.\n",
    "\n",
    "Binary search trees support three main operations: insertion of elements, deletion of elements, and lookup (checking whether a key is present).\n",
    "\n",
    "In the code below binary search tree is implemented using two classes :BinarySearchTree and TreeNode\n",
    "\n",
    "\n",
    "\n",
    "\n",
    "\n"
   ]
  },
  {
   "cell_type": "code",
   "execution_count": 8,
   "metadata": {},
   "outputs": [],
   "source": [
    "\n",
    "class TreeNode:\n",
    "    def __init__(self,key,value,left=None,right=None,parent=None):\n",
    "        self.key=key\n",
    "        self.payload = value\n",
    "        self.leftChild = left\n",
    "        self.rightChild = right\n",
    "        self.parent = parent\n",
    "    \n",
    "    def hasLeftChild(self):\n",
    "        return self.leftChild\n",
    "\n",
    "    def hasRightChild(self):\n",
    "        return self.rightChild\n",
    "\n",
    "    def isLeftChild(self):\n",
    "        return self.parent and self.parent.leftChild == self\n",
    "\n",
    "    def isRightChild(self):\n",
    "        return self.parent and self.parent.rightChild == self\n",
    "\n",
    "    def isRoot(self):\n",
    "        return not self.parent\n",
    "\n",
    "    def isLeaf(self):\n",
    "        return not (self.rightChild or self.leftChild)\n",
    "\n",
    "    def hasAnyChildren(self):\n",
    "        return self.rightChild or self.leftChild\n",
    "\n",
    "    def hasBothChildren(self):\n",
    "        return self.rightChild and self.leftChild\n",
    "    \n",
    "    \n",
    "    def replaceNodeData(self,key,value,lc,rc):\n",
    "        self.key = key\n",
    "        self.payload = value\n",
    "        self.leftChild = lc\n",
    "        self.rightChild = rc\n",
    "        if self.hasLeftChild():\n",
    "            self.leftChild.parent = self\n",
    "        if self.hasRightChild():\n",
    "            self.rightChild.parent = self\n",
    "\n",
    "\n",
    "\n",
    "\n",
    "\n",
    "\n",
    "\n",
    "\n",
    "class BinarySearchTree():\n",
    "    def __init__(self):\n",
    "        self.root=None\n",
    "        self.size=0\n",
    "    def length(self): #using custom module\n",
    "        return self.size\n",
    "    def __len__(self): #using builtin special python module\n",
    "        return self.size\n",
    "\n",
    "    def put(self,key,value):         #put as public function(light) relies on private _put function(heavy) ie inserting new node at current node\n",
    "        if self.root:\n",
    "            self._put(key,value,self.root)\n",
    "        else:\n",
    "            self.root=TreeNode(key,value)\n",
    "            self.size=self.size + 1\n",
    "\n",
    "    def _put(self,key,val,currentNode):\n",
    "        if key < currentNode.key:\n",
    "            if currentNode.hasLeftChild():\n",
    "                   self._put(key,val,currentNode.leftChild)                            # ie recursively moving down the tree\n",
    "            else:\n",
    "                   currentNode.leftChild = TreeNode(key,val,parent=currentNode)\n",
    "        else:\n",
    "            if currentNode.hasRightChild():\n",
    "                   self._put(key,val,currentNode.rightChild)\n",
    "            else:\n",
    "                   currentNode.rightChild = TreeNode(key,val,parent=currentNode)\n",
    "\n",
    "    def __setitem__(self,k,v):    #special function used to set items like array\n",
    "        self.put(k,v)\n",
    "    \n",
    "    def get(self,key):                 #used to get the value of the search key\n",
    "        if self.root:\n",
    "            res = self._get(key,self.root)\n",
    "            if res:\n",
    "                \n",
    "                return res.payload\n",
    "            else:\n",
    "                return None\n",
    "        else:\n",
    "            return None\n",
    "\n",
    "    def _get(self,key,currentNode):\n",
    "        \n",
    "        if not currentNode:\n",
    "            return None\n",
    "        elif currentNode.key == key:\n",
    "            return currentNode\n",
    "        elif key < currentNode.key:\n",
    "            return self._get(key,currentNode.leftChild)\n",
    "        else:\n",
    "            return self._get(key,currentNode.rightChild)\n",
    "\n",
    "    def __getitem__(self,key): #getting value\n",
    "        return self.get(key)    \n",
    "    def __contains__(self,key):  #checks whether the key contains\n",
    "        if self._get(key,self.root):\n",
    "            return True\n",
    "        else:\n",
    "            return False\n",
    "      \n",
    "                         \n",
    "    \n",
    "\n",
    "        \n",
    "     \n",
    "    \n",
    "    "
   ]
  },
  {
   "cell_type": "code",
   "execution_count": 10,
   "metadata": {},
   "outputs": [],
   "source": [
    "tree1=BinarySearchTree()\n",
    "tree1[8]=\"socks\" #ie key value pair inserted\n",
    "tree1[0]=\"undes\" \n",
    "tree1[5]=\"gloves\"\n"
   ]
  },
  {
   "cell_type": "code",
   "execution_count": 11,
   "metadata": {},
   "outputs": [
    {
     "data": {
      "text/plain": "'undes'"
     },
     "execution_count": 11,
     "metadata": {},
     "output_type": "execute_result"
    }
   ],
   "source": [
    "tree1.get(0)"
   ]
  },
  {
   "cell_type": "code",
   "execution_count": null,
   "metadata": {},
   "outputs": [],
   "source": []
  }
 ]
}