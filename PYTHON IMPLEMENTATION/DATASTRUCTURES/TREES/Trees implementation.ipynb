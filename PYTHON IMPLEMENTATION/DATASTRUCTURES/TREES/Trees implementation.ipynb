{
 "nbformat": 4,
 "nbformat_minor": 2,
 "metadata": {
  "language_info": {
   "name": "python",
   "codemirror_mode": {
    "name": "ipython",
    "version": 3
   },
   "version": "3.5.2"
  },
  "orig_nbformat": 2,
  "file_extension": ".py",
  "mimetype": "text/x-python",
  "name": "python",
  "npconvert_exporter": "python",
  "pygments_lexer": "ipython3",
  "version": 3
 },
 "cells": [
  {
   "cell_type": "markdown",
   "execution_count": null,
   "metadata": {},
   "outputs": [],
   "source": [
    "# TREES INTRODUCTION\n",
    "\n",
    "A tree is a widely used abstract data type (ADT) that simulates a hierarchical tree structure, with a root value and subtrees of children with a parent node, represented as a set of linked nodes.\n",
    "\n",
    "A tree is a nonlinear data structure, compared to arrays, linked lists, stacks and queues which are linear data structures. A tree can be empty with no nodes or a tree is a structure consisting of one node called the root and zero or one or more subtrees.\n",
    "\n",
    "A tree data structure can be defined recursively as a collection of nodes (starting at a root node), where each node is a data structure consisting of a value, together with a list of references to nodes (the \"children\"), with the constraints that no reference is duplicated, and none points to the root. \n",
    "\n",
    "There are different kinds of trees implementations:\n",
    "\n",
    "- A binary tree is a tree data structure in which each node has at most two children, which are referred to as the left child and the right child.\n",
    "\n",
    "\n",
    "\n",
    "\n",
    "\n"
   ]
  },
  {
   "cell_type": "code",
   "execution_count": 3,
   "metadata": {},
   "outputs": [
    {
     "data": {
      "text/html": "<img src=\"https://upload.wikimedia.org/wikipedia/commons/thumb/f/f7/Binary_tree.svg/192px-Binary_tree.svg.png\"/>",
      "text/plain": "<IPython.core.display.Image object>"
     },
     "execution_count": 3,
     "metadata": {},
     "output_type": "execute_result"
    }
   ],
   "source": [
    "from IPython.display import Image\n",
    "Image(url= \"https://upload.wikimedia.org/wikipedia/commons/thumb/f/f7/Binary_tree.svg/192px-Binary_tree.svg.png\")\n",
    "\n"
   ]
  },
  {
   "cell_type": "markdown",
   "execution_count": null,
   "metadata": {},
   "outputs": [],
   "source": [
    "### Tree Representation Implementation (Lists)\n",
    " We can represent the Tree using a list of lists.\n",
    " \n",
    " Code below shows this Representation for Binary Tree"
   ]
  },
  {
   "cell_type": "code",
   "execution_count": 4,
   "metadata": {},
   "outputs": [],
   "source": [
    "def BinaryTreeList(root):\n",
    "    return[root,[],[]]\n",
    "def insertleft(root,newbranch):\n",
    "    t=root.pop(1)\n",
    "    if(len(t)>1):\n",
    "        root.insert(1,[newbranch,t,[]])\n",
    "    else:\n",
    "        root.insert(1,[newbranch,[],[]])    \n",
    "    return root\n",
    "\n",
    "def insertright(root,newbranch):\n",
    "    t=root.pop(2)\n",
    "    if(len(t)>1):\n",
    "        root.insert(2,[newbranch,[],t])\n",
    "    else:\n",
    "        root.insert(2,[newbranch,[],[]])\n",
    "    return root\n",
    "def getrootval(root):\n",
    "    return root[0]\n",
    "def setrootval(root,newval):\n",
    "    root[0]=newval\n",
    "def getleftbranch(root):\n",
    "    return root[1]\n",
    "def getrightbranch(root):\n",
    "    return root[2]\n",
    "\n",
    "\n",
    "\n",
    "\n",
    "\n",
    "\n"
   ]
  },
  {
   "cell_type": "code",
   "execution_count": 6,
   "metadata": {},
   "outputs": [
    {
     "name": "stdout",
     "output_type": "stream",
     "text": "[1, [], []]\n"
    }
   ],
   "source": [
    "treeseed=BinaryTreeList(1)\n",
    "print(treeseed)"
   ]
  },
  {
   "cell_type": "code",
   "execution_count": 9,
   "metadata": {},
   "outputs": [
    {
     "name": "stdout",
     "output_type": "stream",
     "text": "[1, [2, [], []], [3, [], []]]\n"
    }
   ],
   "source": [
    "insertleft(treeseed,2)\n",
    "insertright(treeseed,3)\n",
    "print(treeseed)"
   ]
  },
  {
   "cell_type": "markdown",
   "execution_count": null,
   "metadata": {},
   "outputs": [],
   "source": [
    "## Nodes and References Implementation of a Tree\n",
    "lets implement binary tree with nodes and References using recursive definition of trees\n",
    "\n",
    "\n"
   ]
  },
  {
   "cell_type": "code",
   "execution_count": 51,
   "metadata": {},
   "outputs": [],
   "source": [
    "class BinaryTreeNode(object):\n",
    "    def __init__(self,rootobj):\n",
    "        self.key=rootobj\n",
    "        self.leftbranch=None\n",
    "        self.rightbranch=None\n",
    "    def insertleft(self,newnodekey):\n",
    "        if self.leftbranch==None:\n",
    "            self.leftbranch=BinaryTreeNode(newnodekey)\n",
    "        else:\n",
    "            t=BinaryTreeNode(newnodekey)\n",
    "            t.leftbranch=self.leftbranch\n",
    "            self.leftbranch=t\n",
    "    def insertright(self,newnodekey):\n",
    "        if self.rightbranch==None:\n",
    "            self.rightbranch=BinaryTreeNode(newnodekey)\n",
    "        else:\n",
    "            t=BinaryTreeNode(newnodekey)\n",
    "            t.rightbranch=self.rightbranch\n",
    "            self.rightbranch=t\n",
    "    def getrightbranch(self):\n",
    "        return self.rightbranch\n",
    "    def getleftbranch(self):\n",
    "        return self.leftbranch\n",
    "    def getrootkey(self):\n",
    "        return self.key\n",
    "    def setrootkey(self,newkey):\n",
    "        self.key=newkey\n",
    "    def desseminate(self):\n",
    "        t=self\n",
    "\n",
    "        while t.leftbranch:\n",
    "            t=t.leftbranch\n",
    "            if t.leftbranch:\n",
    "                 print(t.leftbranch.key)     \n",
    "        while t.rightbranch:\n",
    "            t=t.rightbranch\n",
    "            if t.rightbranch:\n",
    "                print(t.leftbranch.key)\n",
    "\n",
    "            \n",
    "    \n",
    "\n",
    "\n",
    "    \n",
    "\n"
   ]
  },
  {
   "cell_type": "code",
   "execution_count": 52,
   "metadata": {},
   "outputs": [],
   "source": [
    "seed=BinaryTreeNode(100)\n"
   ]
  },
  {
   "cell_type": "code",
   "execution_count": 53,
   "metadata": {},
   "outputs": [],
   "source": [
    "seed.insertleft(150)\n",
    "seed.insertright(99)\n"
   ]
  },
  {
   "cell_type": "code",
   "execution_count": 54,
   "metadata": {},
   "outputs": [],
   "source": [
    "branch1=BinaryTreeNode(55)\n",
    "branch1.insertleft(44)\n",
    "branch1.insertright(60)"
   ]
  },
  {
   "cell_type": "code",
   "execution_count": 55,
   "metadata": {},
   "outputs": [],
   "source": [
    "seed.insertright(branch1)"
   ]
  },
  {
   "cell_type": "code",
   "execution_count": 57,
   "metadata": {},
   "outputs": [
    {
     "ename": "AttributeError",
     "evalue": "'NoneType' object has no attribute 'key'",
     "output_type": "error",
     "traceback": [
      "\u001b[1;31m---------------------------------------------------------------------------\u001b[0m",
      "\u001b[1;31mAttributeError\u001b[0m                            Traceback (most recent call last)",
      "\u001b[1;32m<ipython-input-57-112352eab3d3>\u001b[0m in \u001b[0;36m<module>\u001b[1;34m\u001b[0m\n\u001b[1;32m----> 1\u001b[1;33m \u001b[0mseed\u001b[0m\u001b[1;33m.\u001b[0m\u001b[0mdesseminate\u001b[0m\u001b[1;33m(\u001b[0m\u001b[1;33m)\u001b[0m\u001b[1;33m\u001b[0m\u001b[0m\n\u001b[0m",
      "\u001b[1;32m<ipython-input-51-bc43f4746f64>\u001b[0m in \u001b[0;36mdesseminate\u001b[1;34m(self)\u001b[0m\n\u001b[0;32m     31\u001b[0m         \u001b[1;32mwhile\u001b[0m \u001b[0mt\u001b[0m\u001b[1;33m.\u001b[0m\u001b[0mleftbranch\u001b[0m\u001b[1;33m:\u001b[0m\u001b[1;33m\u001b[0m\u001b[0m\n\u001b[0;32m     32\u001b[0m             \u001b[0mt\u001b[0m\u001b[1;33m=\u001b[0m\u001b[0mt\u001b[0m\u001b[1;33m.\u001b[0m\u001b[0mleftbranch\u001b[0m\u001b[1;33m\u001b[0m\u001b[0m\n\u001b[1;32m---> 33\u001b[1;33m             \u001b[1;32mif\u001b[0m \u001b[0mt\u001b[0m\u001b[1;33m.\u001b[0m\u001b[0mleftbranch\u001b[0m\u001b[1;33m.\u001b[0m\u001b[0mkey\u001b[0m\u001b[1;33m:\u001b[0m\u001b[1;33m\u001b[0m\u001b[0m\n\u001b[0m\u001b[0;32m     34\u001b[0m                  \u001b[0mprint\u001b[0m\u001b[1;33m(\u001b[0m\u001b[0mt\u001b[0m\u001b[1;33m.\u001b[0m\u001b[0mleftbranch\u001b[0m\u001b[1;33m.\u001b[0m\u001b[0mkey\u001b[0m\u001b[1;33m)\u001b[0m\u001b[1;33m\u001b[0m\u001b[0m\n\u001b[0;32m     35\u001b[0m         \u001b[1;32mwhile\u001b[0m \u001b[0mt\u001b[0m\u001b[1;33m.\u001b[0m\u001b[0mrightbranch\u001b[0m\u001b[1;33m:\u001b[0m\u001b[1;33m\u001b[0m\u001b[0m\n",
      "\u001b[1;31mAttributeError\u001b[0m: 'NoneType' object has no attribute 'key'"
     ]
    }
   ],
   "source": [
    "seed.desseminate()\n"
   ]
  },
  {
   "cell_type": "code",
   "execution_count": null,
   "metadata": {},
   "outputs": [],
   "source": []
  }
 ]
}