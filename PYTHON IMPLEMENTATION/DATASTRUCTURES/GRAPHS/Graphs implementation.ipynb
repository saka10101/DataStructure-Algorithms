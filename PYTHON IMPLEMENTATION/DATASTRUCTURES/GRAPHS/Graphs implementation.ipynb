{
 "nbformat": 4,
 "nbformat_minor": 2,
 "metadata": {
  "language_info": {
   "name": "python",
   "codemirror_mode": {
    "name": "ipython",
    "version": 3
   },
   "version": "3.5.2"
  },
  "orig_nbformat": 2,
  "file_extension": ".py",
  "mimetype": "text/x-python",
  "name": "python",
  "npconvert_exporter": "python",
  "pygments_lexer": "ipython3",
  "version": 3
 },
 "cells": [
  {
   "cell_type": "markdown",
   "execution_count": 1,
   "metadata": {},
   "outputs": [
    {
     "ename": "IndentationError",
     "evalue": "unexpected indent (<ipython-input-1-100f5c58d69e>, line 2)",
     "output_type": "error",
     "traceback": [
      "\u001b[1;36m  File \u001b[1;32m\"<ipython-input-1-100f5c58d69e>\"\u001b[1;36m, line \u001b[1;32m2\u001b[0m\n\u001b[1;33m    graph data structure consists of a finite (and possibly mutable) set of vertices (also called nodes or points), together with a set of unordered pairs of these vertices for an undirected graph or a set of ordered pairs for a directed graph. These pairs are known as edges (also called links or lines), and for a directed graph are also known as arrows. The vertices may be part of the graph structure, or may be external entities represented by integer indices or references.\u001b[0m\n\u001b[1;37m    ^\u001b[0m\n\u001b[1;31mIndentationError\u001b[0m\u001b[1;31m:\u001b[0m unexpected indent\n"
     ]
    }
   ],
   "source": [
    "# GRAPHS INTRODUCTION\n",
    " Graph data structure consists of a finite (and possibly mutable) set of vertices (also called nodes or points), together with a set of unordered pairs of these vertices for an undirected graph or a set of ordered pairs for a directed graph. These pairs are known as edges (also called links or lines), and for a directed graph are also known as arrows. The vertices may be part of the graph structure, or may be external entities represented by integer indices or references.\n",
    "\n",
    "A graph data structure may also associate to each edge some edge value, such as a symbolic label or a numeric attribute (cost, capacity, length, etc.).\n",
    "![See fig below shows a directed graph with three vertices (blue circles) and three edges (black arrows).](https://upload.wikimedia.org/wikipedia/commons/thumb/a/a2/Directed.svg/160px-Directed.svg.png)\n",
    "\n",
    "Different data structures for the representation of graphs are used in practice:\n",
    "- Adjacency list : Vertices are stored as records or objects, and every vertex stores a list of adjacent vertices.\n",
    "- Adjacency matrix : A two-dimensional matrix, in which the rows represent source vertices and columns represent destination vertices. \n",
    "- Incidence matrix : A two-dimensional Boolean matrix, in which the rows represent the vertices and columns represent the edges. The entries indicate whether the vertex at a row is incident to the edge at a column\n"
   ]
  },
  {
   "cell_type": "markdown",
   "execution_count": null,
   "metadata": {},
   "outputs": [],
   "source": [
    "## Graphs implementation as Adjacency list\n",
    "In the implementation code below there are two classes: \n",
    "- Graph that holds the master list of vertices\n",
    "- Vertex that represents each vertex in the graph"
   ]
  },
  {
   "cell_type": "code",
   "execution_count": 22,
   "metadata": {},
   "outputs": [],
   "source": [
    "class Vertex:\n",
    "\n",
    "\n",
    "    def __init__(self,key):\n",
    "        self.id=key\n",
    "        self.neighbours={}  #dictionary implementation to store connected vertices as key and the value as cost/ weight of edge \n",
    "    def add_neighbour(self,nodekey,cost=0):\n",
    "        self.neighbours[nodekey]=cost        \n",
    "    def __str__(self):\n",
    "        return str(self.id) + ' is connected to ' + str([ x.id for  x in self.neighbours])\n",
    "    def get_neighbours(self):\n",
    "        return self.neighbours.keys()\n",
    "    def get_weight(self,nodekey):\n",
    "        return self.neighbours[nodekey]\n",
    "    def getmykey(self):\n",
    "        return self.id\n",
    "\n",
    "class Graph:\n",
    "    def __init__(self):\n",
    "        self.verticeslist={}  #dictionary to store vertices as key and vertex objects as values\n",
    "        self.verticescount= 0\n",
    "    def add_vertex(self,nodekey):\n",
    "        vertexobj=Vertex(nodekey)\n",
    "        self.verticeslist[nodekey]=vertexobj\n",
    "        self.verticescount=self.verticescount+1\n",
    "        return vertexobj\n",
    "    def get_vertex(self,key):\n",
    "        if key in self.verticeslist:\n",
    "            return self.verticeslist[key]\n",
    "        else:\n",
    "            return None\n",
    "    def __contains__(self,key):\n",
    "        return key in self.verticeslist\n",
    "\n",
    "    def add_edge(self,fromvtx,tovtx,cost=0):\n",
    "        if not fromvtx in self.verticeslist:\n",
    "            self.add_vertex(frovtx)\n",
    "        if not tovtx in self.verticeslist:\n",
    "            self.add_vertex(tovtx)\n",
    "        self.verticeslist[fromvtx].add_neighbour(self.verticeslist[tovtx],cost)\n",
    "        \n",
    "    def get_vertices(self):\n",
    "        return  self.verticeslist.keys()\n",
    "    def __iter__(self):                       # creating Iterators\n",
    "        return iter(self.verticeslist.values())\n",
    "\n",
    "\n",
    "\n"
   ]
  },
  {
   "cell_type": "code",
   "execution_count": 24,
   "metadata": {},
   "outputs": [
    {
     "name": "stdout",
     "output_type": "stream",
     "text": "dict_keys(['A', 'C', 'B', 'D'])\ndict_keys([])\n"
    },
    {
     "data": {
      "text/plain": "dict_keys([<__main__.Vertex object at 0x000001F2A9EBA8D0>])"
     },
     "execution_count": 24,
     "metadata": {},
     "output_type": "execute_result"
    }
   ],
   "source": [
    "Graph1=Graph()\n",
    "\n",
    "vertexA=Graph1.add_vertex('A')\n",
    "vertexB=Graph1.add_vertex('B')\n",
    "vertexC=Graph1.add_vertex('C')\n",
    "\n",
    "Graph1.add_edge('A','B',2)\n",
    "Graph1.add_edge('B','C',6)\n",
    "Graph1.add_edge('C','D',9)\n",
    "\n",
    "print(Graph1.get_vertices())\n",
    "\n",
    "VertexD=Graph1.get_vertex('D')\n",
    "print(VertexD.get_neighbours())\n",
    "\n",
    "\n",
    "\n"
   ]
  },
  {
   "cell_type": "code",
   "execution_count": 29,
   "metadata": {},
   "outputs": [
    {
     "name": "stdout",
     "output_type": "stream",
     "text": "A is connected to ['B']\ndict_keys([<__main__.Vertex object at 0x000001F2A9E73D30>])\n\n\nC is connected to ['D']\ndict_keys([<__main__.Vertex object at 0x000001F2A9EBA8D0>])\n\n\nB is connected to ['C']\ndict_keys([<__main__.Vertex object at 0x000001F2A9E73978>])\n\n\nD is connected to []\ndict_keys([])\n\n\n"
    }
   ],
   "source": [
    "for vertex in Graph1:\n",
    "    print (vertex)\n",
    "    print (vertex.get_neighbours())\n",
    "    print ('\\n')"
   ]
  },
  {
   "cell_type": "code",
   "execution_count": null,
   "metadata": {},
   "outputs": [],
   "source": []
  }
 ]
}