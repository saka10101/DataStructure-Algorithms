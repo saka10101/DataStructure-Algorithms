{
 "nbformat": 4,
 "nbformat_minor": 2,
 "metadata": {
  "language_info": {
   "name": "python",
   "codemirror_mode": {
    "name": "ipython",
    "version": 3
   },
   "version": "3.5.2"
  },
  "orig_nbformat": 2,
  "file_extension": ".py",
  "mimetype": "text/x-python",
  "name": "python",
  "npconvert_exporter": "python",
  "pygments_lexer": "ipython3",
  "version": 3
 },
 "cells": [
  {
   "cell_type": "markdown",
   "execution_count": null,
   "metadata": {},
   "outputs": [],
   "source": [
    "# QUEUE INTRODUCTION\n",
    "\n",
    "A queue is a collection of entities that are maintained in a sequence and can be modified by the addition of entities at one end of the sequence(front) and removal(back) from the other end of the sequence.The operations of a queue make it a first-in-first-out (FIFO) data structure.\n",
    "There are several efficient implementations of FIFO queues. An efficient implementation is one that can perform the operations—enqueuing and dequeuing—in O(1) time.Some implementations are:\n",
    "- Linked list:\n",
    "A doubly linked list has O(1) insertion and deletion at both ends, so it is a natural choice for queues.\n",
    "A regular singly linked list only has efficient insertion and deletion at one end. However, a small modification—keeping a pointer to the last node in addition to the first one—will enable it to implement an efficient queue.\n",
    "- Deque (double-ended queue) : Deque is an abstract data type that generalizes a queue, for which elements can be added to or removed from either the front (head) or back (tail). It is also often called a head-tail linked list\n",
    "\n",
    "\n",
    "\n",
    "\n"
   ]
  },
  {
   "cell_type": "markdown",
   "execution_count": null,
   "metadata": {},
   "outputs": [],
   "source": [
    "### Queue Methods and Attributes\n",
    "Some major operations related to queue are:\n",
    "\n",
    "- Queue() creates a new queue that is empty. It needs no parameters and returns an empty queue.\n",
    "- enqueue(item) adds a new item to the rear of the queue. It needs the item and returns nothing.\n",
    "- dequeue() removes the front item from the queue. It needs no parameters and returns the item. The queue is modified.\n",
    "- isEmpty() tests to see whether the queue is empty. It needs no parameters and returns a boolean value.\n",
    "- size() returns the number of items in the queue. It needs no parameters and returns an integer.\n",
    "\n",
    "Above operations are implemented in the code below:\n"
   ]
  },
  {
   "cell_type": "code",
   "execution_count": 1,
   "metadata": {},
   "outputs": [],
   "source": [
    "class Queue(object):\n",
    "             #Using built in insert() to insert element at head and pop() to remove element at tail.\n",
    "             #Notice that we are implementing dynamic queue \n",
    "    def __init__(self):\n",
    "        self.items=[]\n",
    "\n",
    "    def isEmpty(self):\n",
    "        return self.items==[]\n",
    "\n",
    "    def enqueue(self,item):  \n",
    "        self.items.insert(0,item)\n",
    "\n",
    "    def dequeue(self):\n",
    "        return self.items.pop()\n",
    "    def show(self):\n",
    "        return print(self.items)\n",
    "    "
   ]
  },
  {
   "cell_type": "code",
   "execution_count": 3,
   "metadata": {},
   "outputs": [
    {
     "data": {
      "text/plain": "True"
     },
     "execution_count": 3,
     "metadata": {},
     "output_type": "execute_result"
    }
   ],
   "source": [
    "queue=Queue()\n",
    "queue.isEmpty()"
   ]
  },
  {
   "cell_type": "code",
   "execution_count": 4,
   "metadata": {},
   "outputs": [],
   "source": [
    "queue.enqueue(5)\n",
    "queue.enqueue(6)\n",
    "queue.enqueue(8)\n",
    "queue.enqueue(9)"
   ]
  },
  {
   "cell_type": "code",
   "execution_count": 5,
   "metadata": {},
   "outputs": [
    {
     "name": "stdout",
     "output_type": "stream",
     "text": "[9, 8, 6, 5]\n"
    }
   ],
   "source": [
    "queue.show()\n"
   ]
  },
  {
   "cell_type": "code",
   "execution_count": 6,
   "metadata": {},
   "outputs": [
    {
     "name": "stdout",
     "output_type": "stream",
     "text": "[9, 8]\n"
    }
   ],
   "source": [
    "queue.dequeue()\n",
    "queue.dequeue()\n",
    "queue.show()"
   ]
  },
  {
   "cell_type": "markdown",
   "execution_count": null,
   "metadata": {},
   "outputs": [],
   "source": [
    "### Implementation of Deque\n",
    "Some major operation related to deque are:\n",
    "- Deque() creates a new deque that is empty. It needs no parameters and returns an empty deque.\n",
    "- addFront(item) adds a new item to the front of the deque. It needs the item and returns nothing.\n",
    "- addRear(item) adds a new item to the rear of the deque. It needs the item and returns nothing.\n",
    "- removeFront() removes the front item from the deque. It needs no parameters and returns the item. The deque is modified.\n",
    "- removeRear() removes the rear item from the deque. It needs no parameters and returns the item. The deque is modified.\n",
    "- isEmpty() tests to see whether the deque is empty. It needs no parameters and returns a boolean value.\n",
    "- size() returns the number of items in the deque. It needs no parameters and returns an integer.\n",
    "\n",
    "\n",
    "The above operations are implemented in code below:"
   ]
  },
  {
   "cell_type": "code",
   "execution_count": 12,
   "metadata": {},
   "outputs": [],
   "source": [
    "class Deque(object):\n",
    "    def __init__(self):\n",
    "        self.items=[]\n",
    "    def isEmpty(self):\n",
    "        return self.items==[]\n",
    "    def addRear(self,item):\n",
    "        self.items.insert(0,item)\n",
    "    def addFront(self,item):\n",
    "        self.items.append(item)\n",
    "    def removeFront(self):\n",
    "        return self.items.pop()\n",
    "    def removeRear(self):\n",
    "        return self.items.pop(0)\n",
    "    def show(self):\n",
    "        return print(self.items)"
   ]
  },
  {
   "cell_type": "code",
   "execution_count": 13,
   "metadata": {},
   "outputs": [
    {
     "data": {
      "text/plain": "True"
     },
     "execution_count": 13,
     "metadata": {},
     "output_type": "execute_result"
    }
   ],
   "source": [
    "deque=Deque()\n",
    "deque.isEmpty()"
   ]
  },
  {
   "cell_type": "code",
   "execution_count": 15,
   "metadata": {},
   "outputs": [
    {
     "name": "stdout",
     "output_type": "stream",
     "text": "[2, 2]\n"
    }
   ],
   "source": [
    "deque.addFront(2)\n",
    "deque.show()"
   ]
  },
  {
   "cell_type": "code",
   "execution_count": 16,
   "metadata": {},
   "outputs": [
    {
     "name": "stdout",
     "output_type": "stream",
     "text": "[9, 2, 2]\n"
    }
   ],
   "source": [
    "deque.addRear(9)\n",
    "deque.show()"
   ]
  },
  {
   "cell_type": "code",
   "execution_count": 17,
   "metadata": {},
   "outputs": [
    {
     "name": "stdout",
     "output_type": "stream",
     "text": "[9, 2]\n[2]\n"
    }
   ],
   "source": [
    "deque.removeFront()\n",
    "deque.show()\n",
    "deque.removeRear()\n",
    "deque.show()"
   ]
  },
  {
   "cell_type": "code",
   "execution_count": null,
   "metadata": {},
   "outputs": [],
   "source": []
  }
 ]
}