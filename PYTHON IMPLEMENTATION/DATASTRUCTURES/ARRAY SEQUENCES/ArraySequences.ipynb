{
 "cells": [
  {
   "cell_type": "markdown",
   "metadata": {},
   "source": [
    "# ARRAY SEQUENCES INTRODUCTION\n",
    "\n",
    "In python there are mainly the list,tuple,and string objects to implement array sequences. The main common thing about these object types is that its ability to index to access individual elements in the sequence.\n",
    "\n",
    "\n",
    "\n",
    " Tuple vs List\n",
    "1. The elements of a list are mutable whereas the elements of a tuple are immutable.\n",
    "2. When we do not want to change the data over time, the tuple is a preferred data type whereas when we need to change the data in future, list would be a wise option.\n"
   ]
  },
  {
   "cell_type": "code",
   "execution_count": 25,
   "metadata": {},
   "outputs": [],
   "source": [
    "list=[18,0,17,'abc',14,1]\n",
    "tuple=(\"28.2096° N\",\"83.9856° E\")\n",
    "string='iamstring101'\n"
   ]
  },
  {
   "cell_type": "code",
   "execution_count": 26,
   "metadata": {},
   "outputs": [
    {
     "ename": "AttributeError",
     "evalue": "'tuple' object has no attribute 'append'",
     "output_type": "error",
     "traceback": [
      "\u001b[1;31m---------------------------------------------------------------------------\u001b[0m",
      "\u001b[1;31mAttributeError\u001b[0m                            Traceback (most recent call last)",
      "\u001b[1;32m<ipython-input-26-d2748bdb9140>\u001b[0m in \u001b[0;36m<module>\u001b[1;34m\u001b[0m\n\u001b[0;32m     11\u001b[0m \u001b[1;33m\u001b[0m\u001b[0m\n\u001b[0;32m     12\u001b[0m \u001b[0mlist\u001b[0m\u001b[1;33m.\u001b[0m\u001b[0mappend\u001b[0m\u001b[1;33m(\u001b[0m\u001b[1;36m6\u001b[0m\u001b[1;33m)\u001b[0m\u001b[1;33m\u001b[0m\u001b[0m\n\u001b[1;32m---> 13\u001b[1;33m \u001b[0mtuple\u001b[0m\u001b[1;33m.\u001b[0m\u001b[0mappend\u001b[0m\u001b[1;33m(\u001b[0m\u001b[1;36m9\u001b[0m\u001b[1;33m)\u001b[0m\u001b[1;33m\u001b[0m\u001b[0m\n\u001b[0m\u001b[0;32m     14\u001b[0m \u001b[1;31m#list[:4] #first four's\u001b[0m\u001b[1;33m\u001b[0m\u001b[1;33m\u001b[0m\u001b[0m\n\u001b[0;32m     15\u001b[0m \u001b[1;31m#list[4:] #after first four's\u001b[0m\u001b[1;33m\u001b[0m\u001b[1;33m\u001b[0m\u001b[0m\n",
      "\u001b[1;31mAttributeError\u001b[0m: 'tuple' object has no attribute 'append'"
     ]
    }
   ],
   "source": [
    "list[0]\n",
    "list[3]\n",
    "tuple[0]\n",
    "tuple[1]\n",
    "string[4]\n",
    "list[-1]\n",
    "\n",
    "#for Slicing\n",
    "#somelist[start:end]\n",
    "#where start is inclusive and end is exclusive\n",
    "\n",
    "list.append(6)\n",
    "\n",
    "#list[:4] #first four's\n",
    "#list[4:] #after first four's\n",
    "#list[-4:] #last four's\n",
    "#tuple[:-1] \n",
    "#string[-2:]\n",
    "#try and learn more about indexing and slicing"
   ]
  },
  {
   "cell_type": "markdown",
   "metadata": {},
   "source": [
    "# HOW LIST AS DYNAMIC ARRAY IS IMPLEMENTED?\n",
    "\n",
    "The code below shows how dynamic array is implemented in list datastructure of python\n",
    "Here lets start with empty list noting its length and size.Then use a loop to append some element to that list therby keeping track of its length and size. We can notice that the list has larger size than the element it actually holds\n"
   ]
  },
  {
   "cell_type": "code",
   "execution_count": 23,
   "metadata": {},
   "outputs": [
    {
     "name": "stdout",
     "output_type": "stream",
     "text": [
      "length:  0;Size in bytes:  64\n",
      "length:  1;Size in bytes:  96\n",
      "length:  2;Size in bytes:  96\n",
      "length:  3;Size in bytes:  96\n",
      "length:  4;Size in bytes:  96\n",
      "length:  5;Size in bytes: 128\n",
      "length:  6;Size in bytes: 128\n",
      "length:  7;Size in bytes: 128\n",
      "length:  8;Size in bytes: 128\n",
      "length:  9;Size in bytes: 192\n",
      "length: 10;Size in bytes: 192\n",
      "length: 11;Size in bytes: 192\n",
      "length: 12;Size in bytes: 192\n",
      "length: 13;Size in bytes: 192\n",
      "length: 14;Size in bytes: 192\n",
      "length: 15;Size in bytes: 192\n",
      "length: 16;Size in bytes: 192\n",
      "length: 17;Size in bytes: 264\n",
      "length: 18;Size in bytes: 264\n",
      "length: 19;Size in bytes: 264\n"
     ]
    }
   ],
   "source": [
    "import sys\n",
    "\n",
    "n=20;\n",
    "data=[]\n",
    "\n",
    "for i in range(n):\n",
    "    e=len(data)# ie no of elements(length)\n",
    "    s=sys.getsizeof(data) #ie size of data\n",
    "    \n",
    "    print('length:{0:3d};Size in bytes:{1:4d}'.format(e,s))\n",
    "    \n",
    "    data.append(n)\n",
    "    \n",
    "\n",
    "\n",
    "   \n",
    "    \n",
    "    \n",
    "    "
   ]
  },
  {
   "cell_type": "markdown",
   "metadata": {},
   "source": [
    "# Dynamic array implementation class\n"
   ]
  },
  {
   "cell_type": "code",
   "execution_count": null,
   "metadata": {},
   "outputs": [],
   "source": []
  }
 ],
 "metadata": {
  "kernelspec": {
   "display_name": "Python 3",
   "language": "python",
   "name": "python3"
  },
  "language_info": {
   "codemirror_mode": {
    "name": "ipython",
    "version": 3
   },
   "file_extension": ".py",
   "mimetype": "text/x-python",
   "name": "python",
   "nbconvert_exporter": "python",
   "pygments_lexer": "ipython3",
   "version": "3.5.2"
  }
 },
 "nbformat": 4,
 "nbformat_minor": 2
}
