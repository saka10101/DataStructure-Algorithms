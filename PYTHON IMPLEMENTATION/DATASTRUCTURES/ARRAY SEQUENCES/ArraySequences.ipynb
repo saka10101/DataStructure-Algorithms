{
 "cells": [
  {
   "cell_type": "markdown",
   "metadata": {},
   "source": [
    "# ARRAY SEQUENCES INTRODUCTION\n",
    "\n",
    "In python there are mainly the list,tuple,and string objects to implement array sequences. The main common thing about these object types is that its ability to index to access individual elements in the sequence.\n",
    "\n",
    "\n",
    "\n",
    " Tuple vs List\n",
    "1. The elements of a list are mutable whereas the elements of a tuple are immutable.\n",
    "2. When we do not want to change the data over time, the tuple is a preferred data type whereas when we need to change the data in future, list would be a wise option.\n"
   ]
  },
  {
   "cell_type": "code",
   "execution_count": 1,
   "metadata": {},
   "outputs": [],
   "source": [
    "list=[18,0,17,'abc',14,1]\n",
    "tuple=(\"28.2096° N\",\"83.9856° E\")\n",
    "string='iamstring101'\n"
   ]
  },
  {
   "cell_type": "code",
   "execution_count": 2,
   "metadata": {},
   "outputs": [],
   "source": [
    "list[0]\n",
    "list[3]\n",
    "tuple[0]\n",
    "tuple[1]\n",
    "string[4]\n",
    "list[-1]\n",
    "\n",
    "#for Slicing\n",
    "#somelist[start:end]\n",
    "#where start is inclusive and end is exclusive\n",
    "\n",
    "list.append(6)\n",
    "\n",
    "#list[:4] #first four's\n",
    "#list[4:] #after first four's\n",
    "#list[-4:] #last four's\n",
    "#tuple[:-1] \n",
    "#string[-2:]\n",
    "#try and learn more about indexing and slicing"
   ]
  },
  {
   "cell_type": "markdown",
   "metadata": {},
   "source": [
    "# HOW LIST AS DYNAMIC ARRAY IS IMPLEMENTED?\n",
    "\n",
    "The code below shows how dynamic array is implemented in list datastructure of python\n",
    "Here lets start with empty list noting its length and size.Then use a loop to append some element to that list therby keeping track of its length and size. We can notice that the list has larger size than the element it actually holds\n"
   ]
  },
  {
   "cell_type": "code",
   "execution_count": 3,
   "metadata": {},
   "outputs": [
    {
     "name": "stdout",
     "output_type": "stream",
     "text": "length:  0;Size in bytes:  64\nlength:  1;Size in bytes:  96\nlength:  2;Size in bytes:  96\nlength:  3;Size in bytes:  96\nlength:  4;Size in bytes:  96\nlength:  5;Size in bytes: 128\nlength:  6;Size in bytes: 128\nlength:  7;Size in bytes: 128\nlength:  8;Size in bytes: 128\nlength:  9;Size in bytes: 192\nlength: 10;Size in bytes: 192\nlength: 11;Size in bytes: 192\nlength: 12;Size in bytes: 192\nlength: 13;Size in bytes: 192\nlength: 14;Size in bytes: 192\nlength: 15;Size in bytes: 192\nlength: 16;Size in bytes: 192\nlength: 17;Size in bytes: 264\nlength: 18;Size in bytes: 264\nlength: 19;Size in bytes: 264\n"
    }
   ],
   "source": [
    "import sys\n",
    "\n",
    "n=20;\n",
    "data=[]\n",
    "\n",
    "for i in range(n):\n",
    "    e=len(data)# ie no of elements(length)\n",
    "    s=sys.getsizeof(data) #ie size of data\n",
    "    \n",
    "    print('length:{0:3d};Size in bytes:{1:4d}'.format(e,s))\n",
    "    \n",
    "    data.append(n)\n",
    "    \n",
    "\n",
    "\n",
    "   \n",
    "    \n",
    "    \n",
    "    "
   ]
  },
  {
   "cell_type": "markdown",
   "metadata": {},
   "source": [
    "# Dynamic array implementation class\n"
   ]
  },
  {
   "cell_type": "markdown",
   "execution_count": null,
   "metadata": {},
   "outputs": [],
   "source": [
    "Dynamic arrays can be actually implemented by using static arrays. Suppose we have static array A that stores the element.The key is to provide a means to grow this array A. As we can't grow array A as its fixed in capacity.\n",
    "\n",
    "So in the case when some element is appended to the array A when it is full we'll need to perform the following steps:\n",
    "->Allocate a new array B with larger capacity than array A\n",
    "->Set B[i]=A[i] for i=0,1....,n-1 where n is current number of item\n",
    "->Then set A=B (ie new array is that B array )we use B as array supporting the list\n",
    "->Now insert new element in that new array\n",
    "\n",
    "Simple implementation of above steps in the code below:_\n"
   ]
  },
  {
   "cell_type": "code",
   "execution_count": 4,
   "metadata": {},
   "outputs": [],
   "source": [
    "import ctypes #used to create raw array with specified capacity (static array) \n",
    "\n",
    "class DynamicArray(object):\n",
    "    '''\n",
    "    DYNAMIC ARRAY CLASS (~ to Python List)\n",
    "    '''\n",
    "    \n",
    "    def __init__(self):\n",
    "        self.n = 0 # Count actual elements (Default is 0)\n",
    "        self.capacity = 1 # Default Capacity at first\n",
    "        self.A = self.make_array(self.capacity)\n",
    "        \n",
    "    def __len__(self):  #special func see usage below\n",
    "        \"\"\"\n",
    "        Return number of elements sorted in array\n",
    "        \"\"\"\n",
    "        return self.n\n",
    "    \n",
    "    def __getitem__(self,k): #special func see usage below\n",
    "        \"\"\"\n",
    "        Return element at index k\n",
    "        \"\"\"\n",
    "        if not 0 <= k <self.n:\n",
    "            return IndexError('K is out of bounds!') # Check it k index is in bounds of array\n",
    "        \n",
    "        return self.A[k] #Retrieve from array at index k\n",
    "        \n",
    "    def append(self, ele):\n",
    "        \"\"\"\n",
    "        Add element to end of the array\n",
    "        \"\"\"\n",
    "        if self.n == self.capacity:\n",
    "            self._resize(2*self.capacity) #Double capacity if not enough room\n",
    "        \n",
    "        self.A[self.n] = ele #Set self.n index to element\n",
    "        self.n += 1\n",
    "        \n",
    "    def _resize(self,new_cap):\n",
    "        \"\"\"\n",
    "        Resize internal array to capacity new_cap\n",
    "        \"\"\"\n",
    "        \n",
    "        B = self.make_array(new_cap) # New bigger array\n",
    "        \n",
    "        for k in range(self.n): # Reference all existing values\n",
    "            B[k] = self.A[k]\n",
    "            \n",
    "        self.A = B # Call A the new bigger array\n",
    "        self.capacity = new_cap # Reset the capacity\n",
    "        \n",
    "    def make_array(self,new_cap): #creates raw array with desired capacity\n",
    "        \"\"\"\n",
    "        Returns a new array with new_cap capacity\n",
    "        \"\"\"\n",
    "        return (new_cap * ctypes.py_object)()"
   ]
  },
  {
   "cell_type": "code",
   "execution_count": 5,
   "metadata": {},
   "outputs": [],
   "source": [
    "array=DynamicArray()\n"
   ]
  },
  {
   "cell_type": "code",
   "execution_count": 6,
   "metadata": {},
   "outputs": [
    {
     "data": {
      "text/plain": "0"
     },
     "execution_count": 6,
     "metadata": {},
     "output_type": "execute_result"
    }
   ],
   "source": [
    "len(array)\n"
   ]
  },
  {
   "cell_type": "code",
   "execution_count": 7,
   "metadata": {},
   "outputs": [],
   "source": [
    "array.append(1)\n",
    "array.append(2)\n",
    "array.append(3)\n",
    "array.append(4)\n"
   ]
  },
  {
   "cell_type": "code",
   "execution_count": 9,
   "metadata": {},
   "outputs": [
    {
     "data": {
      "text/plain": "4"
     },
     "execution_count": 9,
     "metadata": {},
     "output_type": "execute_result"
    }
   ],
   "source": [
    "array[3]\n"
   ]
  },
  {
   "cell_type": "code",
   "execution_count": 12,
   "metadata": {},
   "outputs": [
    {
     "name": "stdout",
     "output_type": "stream",
     "text": "length: 44;Size in bytes:56\nlength: 45;Size in bytes:56\nlength: 46;Size in bytes:56\nlength: 47;Size in bytes:56\nlength: 48;Size in bytes:56\nlength: 49;Size in bytes:56\nlength: 50;Size in bytes:56\nlength: 51;Size in bytes:56\nlength: 52;Size in bytes:56\nlength: 53;Size in bytes:56\nlength: 54;Size in bytes:56\nlength: 55;Size in bytes:56\nlength: 56;Size in bytes:56\nlength: 57;Size in bytes:56\nlength: 58;Size in bytes:56\nlength: 59;Size in bytes:56\nlength: 60;Size in bytes:56\nlength: 61;Size in bytes:56\nlength: 62;Size in bytes:56\nlength: 63;Size in bytes:56\n"
    }
   ],
   "source": [
    "#\n",
    "import sys\n",
    "\n",
    "n=20;\n",
    "data=array\n",
    "\n",
    "for i in range(n):\n",
    "    e=len(data)# ie no of elements(length)\n",
    "    s=sys.getsizeof(data) #ie size of data\n",
    "    \n",
    "    print('length:{0:3d};Size in bytes:{1:1d}'.format(e,s))\n",
    "    \n",
    "    data.append(n)\n",
    "    "
   ]
  },
  {
   "cell_type": "code",
   "execution_count": null,
   "metadata": {},
   "outputs": [],
   "source": []
  }
 ],
 "metadata": {
  "kernelspec": {
   "display_name": "Python 3",
   "language": "python",
   "name": "python3"
  },
  "language_info": {
   "codemirror_mode": {
    "name": "ipython",
    "version": 3
   },
   "file_extension": ".py",
   "mimetype": "text/x-python",
   "name": "python",
   "nbconvert_exporter": "python",
   "pygments_lexer": "ipython3",
   "version": "3.5.2"
  }
 },
 "nbformat": 4,
 "nbformat_minor": 2
}